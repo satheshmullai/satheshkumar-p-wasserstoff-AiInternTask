{
 "cells": [
  {
   "cell_type": "code",
   "execution_count": 2,
   "id": "8225d71d-98b4-4345-bda4-7e1913b379e1",
   "metadata": {},
   "outputs": [
    {
     "name": "stdout",
     "output_type": "stream",
     "text": [
      "Collecting pymongo\n",
      "  Downloading pymongo-4.10.1-cp311-cp311-win_amd64.whl.metadata (22 kB)\n",
      "Collecting dnspython<3.0.0,>=1.16.0 (from pymongo)\n",
      "  Downloading dnspython-2.7.0-py3-none-any.whl.metadata (5.8 kB)\n",
      "Downloading pymongo-4.10.1-cp311-cp311-win_amd64.whl (876 kB)\n",
      "   ---------------------------------------- 0.0/876.5 kB ? eta -:--:--\n",
      "   ----------- ---------------------------- 245.8/876.5 kB 5.0 MB/s eta 0:00:01\n",
      "   ---------------- ----------------------- 358.4/876.5 kB 4.4 MB/s eta 0:00:01\n",
      "   ---------------- ----------------------- 368.6/876.5 kB 2.5 MB/s eta 0:00:01\n",
      "   ------------------------- -------------- 553.0/876.5 kB 2.7 MB/s eta 0:00:01\n",
      "   ------------------------------- -------- 686.1/876.5 kB 2.9 MB/s eta 0:00:01\n",
      "   ----------------------------------- ---- 768.0/876.5 kB 2.6 MB/s eta 0:00:01\n",
      "   ---------------------------------------  870.4/876.5 kB 2.6 MB/s eta 0:00:01\n",
      "   ---------------------------------------- 876.5/876.5 kB 2.3 MB/s eta 0:00:00\n",
      "Downloading dnspython-2.7.0-py3-none-any.whl (313 kB)\n",
      "   ---------------------------------------- 0.0/313.6 kB ? eta -:--:--\n",
      "   ------------------------------------ --- 286.7/313.6 kB 8.9 MB/s eta 0:00:01\n",
      "   ---------------------------------------  307.2/313.6 kB 6.3 MB/s eta 0:00:01\n",
      "   ---------------------------------------- 313.6/313.6 kB 2.4 MB/s eta 0:00:00\n",
      "Installing collected packages: dnspython, pymongo\n",
      "Successfully installed dnspython-2.7.0 pymongo-4.10.1\n"
     ]
    }
   ],
   "source": [
    "!pip install pymongo\n"
   ]
  },
  {
   "cell_type": "code",
   "execution_count": 3,
   "id": "03d29fdb-0bfe-4a97-b3fd-a03c52ef8d14",
   "metadata": {},
   "outputs": [],
   "source": [
    "import os  # For interacting with the file system\n",
    "import PyPDF2  # For reading and extracting text from PDFs\n",
    "from pymongo import MongoClient  # For connecting to MongoDB and storing results\n",
    "import nltk  # For natural language processing\n",
    "from nltk.corpus import stopwords  # To filter out common stopwords for keyword extraction\n",
    "from sklearn.feature_extraction.text import TfidfVectorizer  # For keyword extraction using TF-IDF\n"
   ]
  },
  {
   "cell_type": "code",
   "execution_count": 4,
   "id": "d9a3a5d6-d7ff-4f1c-ab6e-116b47b448b5",
   "metadata": {},
   "outputs": [
    {
     "name": "stderr",
     "output_type": "stream",
     "text": [
      "[nltk_data] Downloading package stopwords to\n",
      "[nltk_data]     C:\\Users\\Windows\\AppData\\Roaming\\nltk_data...\n",
      "[nltk_data]   Package stopwords is already up-to-date!\n"
     ]
    },
    {
     "data": {
      "text/plain": [
       "True"
      ]
     },
     "execution_count": 4,
     "metadata": {},
     "output_type": "execute_result"
    }
   ],
   "source": [
    "\n",
    "# Download stopwords required for keyword extraction\n",
    "nltk.download('stopwords')"
   ]
  },
  {
   "cell_type": "code",
   "execution_count": 5,
   "id": "df3bd7d0-3e9e-43a8-8803-62bd1a5969a5",
   "metadata": {},
   "outputs": [],
   "source": [
    "\n",
    "# Set up the connection to the MongoDB database\n",
    "# We assume MongoDB is running locally on the default port\n",
    "client = MongoClient('mongodb://localhost:27017/')\n",
    "db = client['pdf_db']  # Database where we store PDF processing results\n",
    "collection = db['pdf_documents']  # Collection to store each document's summary and keywords\n"
   ]
  },
  {
   "cell_type": "code",
   "execution_count": 6,
   "id": "35dcd731-1113-43b0-85a9-b2d0d911c51d",
   "metadata": {},
   "outputs": [],
   "source": [
    "\n",
    "# Function to extract text from a PDF file\n",
    "def extract_text_from_pdf(pdf_path):\n",
    "    \"\"\"\n",
    "    This function takes the path of a PDF file as input and extracts all the text from it.\n",
    "    Returns the extracted text or None if an error occurs.\n",
    "    \"\"\"\n",
    "    try:\n",
    "        with open(pdf_path, 'rb') as file:\n",
    "            reader = PyPDF2.PdfReader(file)  # Open the PDF file\n",
    "            text = ''\n",
    "            for page in reader.pages:\n",
    "                text += page.extract_text()  # Extract text from each page and append\n",
    "            return text\n",
    "    except Exception as e:\n",
    "        print(f\"Error reading {pdf_path}: {str(e)}\")  # Print error if something goes wrong\n",
    "        return None"
   ]
  },
  {
   "cell_type": "code",
   "execution_count": 7,
   "id": "665feb0a-b819-4587-a72e-4d7f14eded7e",
   "metadata": {},
   "outputs": [],
   "source": [
    "# Function to generate a basic summary of the extracted text\n",
    "def generate_summary(text, max_sentences=2):\n",
    "    \"\"\"\n",
    "    This function generates a summary by taking the first 'max_sentences' sentences from the text.\n",
    "    This is a very basic form of summarization.\n",
    "    \"\"\"\n",
    "    sentences = text.split('.')  # Split the text into sentences\n",
    "    summary = '. '.join(sentences[:max_sentences]) + '.'  # Join the first 'max_sentences' sentences\n",
    "    return summary\n"
   ]
  },
  {
   "cell_type": "code",
   "execution_count": 8,
   "id": "ded01955-8083-4cca-bad3-e26542843e8a",
   "metadata": {},
   "outputs": [],
   "source": [
    "\n",
    "# Function to extract keywords using TF-IDF (Term Frequency - Inverse Document Frequency)\n",
    "def extract_keywords(text, num_keywords=5):\n",
    "    \"\"\"\n",
    "    This function extracts important keywords from the text using the TF-IDF method.\n",
    "    It returns the top 'num_keywords' most relevant keywords.\n",
    "    \"\"\"\n",
    "    stop_words = set(stopwords.words('english'))  # Define stopwords to ignore common words\n",
    "    vectorizer = TfidfVectorizer(stop_words=stop_words)  # Initialize TF-IDF vectorizer\n",
    "    tfidf_matrix = vectorizer.fit_transform([text])  # Apply TF-IDF to the text\n",
    "    feature_array = vectorizer.get_feature_names_out()  # Get the feature names (words)\n",
    "    tfidf_sorting = tfidf_matrix.toarray().flatten().argsort()[::-1]  # Sort words by TF-IDF score\n",
    "    top_keywords = feature_array[tfidf_sorting][:num_keywords]  # Get the top keywords\n",
    "    return top_keywords"
   ]
  },
  {
   "cell_type": "code",
   "execution_count": 9,
   "id": "1a39e498-c75f-4204-994a-2912d13b2deb",
   "metadata": {},
   "outputs": [],
   "source": [
    "# Function to store the extracted summary and keywords in MongoDB\n",
    "def store_in_mongo(file_name, summary, keywords):\n",
    "    \"\"\"\n",
    "    This function takes the file name, generated summary, and extracted keywords,\n",
    "    and stores them in the MongoDB database.\n",
    "    \"\"\"\n",
    "    document = {\n",
    "        'file_name': file_name,  # Store the name of the PDF file\n",
    "        'summary': summary,  # Store the generated summary\n",
    "        'keywords': keywords  # Store the extracted keywords\n",
    "    }\n",
    "    collection.insert_one(document)  # Insert the document into MongoDB\n",
    "    print(f\"Stored in MongoDB: {file_name}\")  # Confirm that the data has been stored"
   ]
  },
  {
   "cell_type": "code",
   "execution_count": 10,
   "id": "3b1c1a03-4c16-4433-8642-266282a8b49f",
   "metadata": {},
   "outputs": [
    {
     "ename": "FileNotFoundError",
     "evalue": "[WinError 3] The system cannot find the path specified: 'path_to_your_pdf_folder'",
     "output_type": "error",
     "traceback": [
      "\u001b[1;31m---------------------------------------------------------------------------\u001b[0m",
      "\u001b[1;31mFileNotFoundError\u001b[0m                         Traceback (most recent call last)",
      "Cell \u001b[1;32mIn[10], line 30\u001b[0m\n\u001b[0;32m     27\u001b[0m pdf_folder \u001b[38;5;241m=\u001b[39m \u001b[38;5;124m\"\u001b[39m\u001b[38;5;124mpath_to_your_pdf_folder\u001b[39m\u001b[38;5;124m\"\u001b[39m\n\u001b[0;32m     29\u001b[0m \u001b[38;5;66;03m# Start processing the PDFs in the folder\u001b[39;00m\n\u001b[1;32m---> 30\u001b[0m process_pdfs_from_folder(pdf_folder)\n",
      "Cell \u001b[1;32mIn[10], line 7\u001b[0m, in \u001b[0;36mprocess_pdfs_from_folder\u001b[1;34m(folder_path)\u001b[0m\n\u001b[0;32m      2\u001b[0m \u001b[38;5;28;01mdef\u001b[39;00m \u001b[38;5;21mprocess_pdfs_from_folder\u001b[39m(folder_path):\n\u001b[0;32m      3\u001b[0m \u001b[38;5;250m    \u001b[39m\u001b[38;5;124;03m\"\"\"\u001b[39;00m\n\u001b[0;32m      4\u001b[0m \u001b[38;5;124;03m    This function processes all PDF files in the given folder.\u001b[39;00m\n\u001b[0;32m      5\u001b[0m \u001b[38;5;124;03m    It extracts text, generates summaries, extracts keywords, and stores the results in MongoDB.\u001b[39;00m\n\u001b[0;32m      6\u001b[0m \u001b[38;5;124;03m    \"\"\"\u001b[39;00m\n\u001b[1;32m----> 7\u001b[0m     pdf_files \u001b[38;5;241m=\u001b[39m [f \u001b[38;5;28;01mfor\u001b[39;00m f \u001b[38;5;129;01min\u001b[39;00m os\u001b[38;5;241m.\u001b[39mlistdir(folder_path) \u001b[38;5;28;01mif\u001b[39;00m f\u001b[38;5;241m.\u001b[39mendswith(\u001b[38;5;124m'\u001b[39m\u001b[38;5;124m.pdf\u001b[39m\u001b[38;5;124m'\u001b[39m)]  \u001b[38;5;66;03m# List all PDF files in the folder\u001b[39;00m\n\u001b[0;32m      9\u001b[0m     \u001b[38;5;28;01mfor\u001b[39;00m pdf_file \u001b[38;5;129;01min\u001b[39;00m pdf_files:\n\u001b[0;32m     10\u001b[0m         file_path \u001b[38;5;241m=\u001b[39m os\u001b[38;5;241m.\u001b[39mpath\u001b[38;5;241m.\u001b[39mjoin(folder_path, pdf_file)  \u001b[38;5;66;03m# Get the full path of the PDF file\u001b[39;00m\n",
      "\u001b[1;31mFileNotFoundError\u001b[0m: [WinError 3] The system cannot find the path specified: 'path_to_your_pdf_folder'"
     ]
    }
   ],
   "source": [
    "\n",
    "# Function to process all PDFs in a folder\n",
    "def process_pdfs_from_folder(folder_path):\n",
    "    \"\"\"\n",
    "    This function processes all PDF files in the given folder.\n",
    "    It extracts text, generates summaries, extracts keywords, and stores the results in MongoDB.\n",
    "    \"\"\"\n",
    "    pdf_files = [f for f in os.listdir(folder_path) if f.endswith('.pdf')]  # List all PDF files in the folder\n",
    "    \n",
    "    for pdf_file in pdf_files:\n",
    "        file_path = os.path.join(folder_path, pdf_file)  # Get the full path of the PDF file\n",
    "        print(f\"Processing: {file_path}\")  # Print the file being processed\n",
    "        \n",
    "        # Step 1: Extract text from the PDF\n",
    "        text = extract_text_from_pdf(file_path)\n",
    "        \n",
    "        if text:\n",
    "            # Step 2: Generate a summary from the extracted text\n",
    "            summary = generate_summary(text)\n",
    "            \n",
    "            # Step 3: Extract keywords from the extracted text\n",
    "            keywords = extract_keywords(text)\n",
    "            \n",
    "            # Step 4: Store the summary and keywords in MongoDB\n",
    "            store_in_mongo(pdf_file, summary, keywords)\n",
    "\n",
    "# Define the folder where the PDFs are stored\n",
    "pdf_folder = \"\"C:\\Users\\Windows\\Documents\\html.i\"\"\n",
    "\n",
    "# Start processing the PDFs in the folder\n",
    "process_pdfs_from_folder(pdf_folder)\n"
   ]
  },
  {
   "cell_type": "code",
   "execution_count": null,
   "id": "c4ed94d3-5b77-4125-bb7b-35d9f438fed7",
   "metadata": {},
   "outputs": [],
   "source": []
  }
 ],
 "metadata": {
  "kernelspec": {
   "display_name": "Python 3 (ipykernel)",
   "language": "python",
   "name": "python3"
  },
  "language_info": {
   "codemirror_mode": {
    "name": "ipython",
    "version": 3
   },
   "file_extension": ".py",
   "mimetype": "text/x-python",
   "name": "python",
   "nbconvert_exporter": "python",
   "pygments_lexer": "ipython3",
   "version": "3.11.7"
  }
 },
 "nbformat": 4,
 "nbformat_minor": 5
}
